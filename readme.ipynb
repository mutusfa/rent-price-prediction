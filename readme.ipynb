{
 "cells": [
  {
   "cell_type": "markdown",
   "metadata": {},
   "source": [
    "# Model for inferring monthly rent prices in Lithuania\n",
    "\n",
    "## Introduction\n",
    "I'm interested in invested in Real Estate in Lithuania and this project collects part of\n",
    "the data needed to estimate viability of the venture.\n",
    "\n",
    "I have scraped monthly rent prices for flats from a site for real estate listings\n",
    "aruodas.lt, I will also need to collect data on real estate prices, that would provide a\n",
    "ballpark estimate if buying real estate for renting it out is profitable and in what\n",
    "regions it would be profitable."
   ]
  },
  {
   "cell_type": "markdown",
   "metadata": {},
   "source": [
    "## Workflow from A to Z"
   ]
  },
  {
   "cell_type": "markdown",
   "metadata": {},
   "source": [
    "### Gathering data"
   ]
  },
  {
   "cell_type": "code",
   "execution_count": 1,
   "metadata": {},
   "outputs": [],
   "source": [
    "# !pip install git+https://github.com/mutusfa/scrape_aruodas"
   ]
  },
  {
   "cell_type": "code",
   "execution_count": 12,
   "metadata": {},
   "outputs": [],
   "source": [
    "import logging\n",
    "\n",
    "logging.basicConfig()\n",
    "logger = logging.getLogger()\n",
    "logger.setLevel(logging.WARNING)"
   ]
  },
  {
   "cell_type": "code",
   "execution_count": 13,
   "metadata": {},
   "outputs": [
    {
     "name": "stdout",
     "output_type": "stream",
     "text": [
      "The lab_black extension is already loaded. To reload it, use:\n",
      "  %reload_ext lab_black\n"
     ]
    }
   ],
   "source": [
    "import pandas as pd\n",
    "from pathlib import Path\n",
    "\n",
    "from scrape_aruodas.main import scrape\n",
    "\n",
    "PROJECT_DIR = Path.cwd()\n",
    "\n",
    "%load_ext lab_black"
   ]
  },
  {
   "cell_type": "code",
   "execution_count": 14,
   "metadata": {},
   "outputs": [],
   "source": [
    "# raw = scrape(num_items=2000)\n",
    "# raw.to_csv(str(PROJECT_DIR / \"data/raw/rent.csv\"))"
   ]
  },
  {
   "cell_type": "markdown",
   "metadata": {},
   "source": [
    "### Cleaning the data"
   ]
  },
  {
   "cell_type": "code",
   "execution_count": 15,
   "metadata": {},
   "outputs": [],
   "source": [
    "import src.data.make_dataset\n",
    "\n",
    "intermediate = (\n",
    "    src.data.make_dataset.make_intermediate()\n",
    ")  # also gets saved at data/intermediate/rent.csv"
   ]
  },
  {
   "cell_type": "markdown",
   "metadata": {},
   "source": [
    "There is a notebook in src/data/select_final.ipynb with minimal exploratory data analysis, where I cut off outliers."
   ]
  },
  {
   "cell_type": "code",
   "execution_count": 16,
   "metadata": {},
   "outputs": [
    {
     "data": {
      "text/html": [
       "<div>\n",
       "<style scoped>\n",
       "    .dataframe tbody tr th:only-of-type {\n",
       "        vertical-align: middle;\n",
       "    }\n",
       "\n",
       "    .dataframe tbody tr th {\n",
       "        vertical-align: top;\n",
       "    }\n",
       "\n",
       "    .dataframe thead th {\n",
       "        text-align: right;\n",
       "    }\n",
       "</style>\n",
       "<table border=\"1\" class=\"dataframe\">\n",
       "  <thead>\n",
       "    <tr style=\"text-align: right;\">\n",
       "      <th></th>\n",
       "      <th>city</th>\n",
       "      <th>district</th>\n",
       "      <th>latitude</th>\n",
       "      <th>listing_url</th>\n",
       "      <th>longitude</th>\n",
       "      <th>street</th>\n",
       "      <th>floor_area_m2</th>\n",
       "      <th>monthly_rent</th>\n",
       "      <th>number_of_rooms</th>\n",
       "      <th>floor</th>\n",
       "      <th>number_of_floors</th>\n",
       "      <th>build_year</th>\n",
       "      <th>building_type</th>\n",
       "      <th>heating_type</th>\n",
       "      <th>equipment</th>\n",
       "    </tr>\n",
       "  </thead>\n",
       "  <tbody>\n",
       "    <tr>\n",
       "      <th>1</th>\n",
       "      <td>vilniuje</td>\n",
       "      <td>snipiskese</td>\n",
       "      <td>54.720888</td>\n",
       "      <td>https://www.aruodas.lt/butu-nuoma-vilniuje-sni...</td>\n",
       "      <td>25.278539</td>\n",
       "      <td>juozo-balcikonio-g</td>\n",
       "      <td>19.0</td>\n",
       "      <td>326.0</td>\n",
       "      <td>1.0</td>\n",
       "      <td>3.0</td>\n",
       "      <td>5.0</td>\n",
       "      <td>2020.0</td>\n",
       "      <td>Mūrinis</td>\n",
       "      <td>Centrinis kolektorinis</td>\n",
       "      <td>Įrengtas</td>\n",
       "    </tr>\n",
       "    <tr>\n",
       "      <th>2</th>\n",
       "      <td>vilniuje</td>\n",
       "      <td>naujininkuose</td>\n",
       "      <td>54.662883</td>\n",
       "      <td>https://www.aruodas.lt/butu-nuoma-vilniuje-nau...</td>\n",
       "      <td>25.277840</td>\n",
       "      <td>telsiu-g</td>\n",
       "      <td>42.0</td>\n",
       "      <td>399.0</td>\n",
       "      <td>3.0</td>\n",
       "      <td>2.0</td>\n",
       "      <td>4.0</td>\n",
       "      <td>2015.0</td>\n",
       "      <td>Mūrinis</td>\n",
       "      <td>Geoterminis</td>\n",
       "      <td>Įrengtas</td>\n",
       "    </tr>\n",
       "    <tr>\n",
       "      <th>3</th>\n",
       "      <td>vilniuje</td>\n",
       "      <td>fabijoniskese</td>\n",
       "      <td>54.742411</td>\n",
       "      <td>https://www.aruodas.lt/butu-nuoma-vilniuje-fab...</td>\n",
       "      <td>25.229110</td>\n",
       "      <td>salomejos-neries-g</td>\n",
       "      <td>50.0</td>\n",
       "      <td>360.0</td>\n",
       "      <td>2.0</td>\n",
       "      <td>11.0</td>\n",
       "      <td>12.0</td>\n",
       "      <td>2008.0</td>\n",
       "      <td>Mūrinis</td>\n",
       "      <td>Kita</td>\n",
       "      <td>Įrengtas</td>\n",
       "    </tr>\n",
       "    <tr>\n",
       "      <th>5</th>\n",
       "      <td>vilniuje</td>\n",
       "      <td>senamiestyje</td>\n",
       "      <td>54.681746</td>\n",
       "      <td>https://www.aruodas.lt/butu-nuoma-vilniuje-sen...</td>\n",
       "      <td>25.279369</td>\n",
       "      <td>klaipedos-g</td>\n",
       "      <td>105.0</td>\n",
       "      <td>1500.0</td>\n",
       "      <td>4.0</td>\n",
       "      <td>3.0</td>\n",
       "      <td>3.0</td>\n",
       "      <td>2013.0</td>\n",
       "      <td>Mūrinis</td>\n",
       "      <td>Centrinis kolektorinis</td>\n",
       "      <td>Įrengtas</td>\n",
       "    </tr>\n",
       "    <tr>\n",
       "      <th>6</th>\n",
       "      <td>vilniuje</td>\n",
       "      <td>naujininkuose</td>\n",
       "      <td>54.662866</td>\n",
       "      <td>https://www.aruodas.lt/butu-nuoma-vilniuje-nau...</td>\n",
       "      <td>25.277922</td>\n",
       "      <td>telsiu-g</td>\n",
       "      <td>42.0</td>\n",
       "      <td>350.0</td>\n",
       "      <td>1.0</td>\n",
       "      <td>1.0</td>\n",
       "      <td>4.0</td>\n",
       "      <td>2015.0</td>\n",
       "      <td>Mūrinis</td>\n",
       "      <td>Geoterminis</td>\n",
       "      <td>Įrengtas</td>\n",
       "    </tr>\n",
       "  </tbody>\n",
       "</table>\n",
       "</div>"
      ],
      "text/plain": [
       "       city       district   latitude  \\\n",
       "1  vilniuje     snipiskese  54.720888   \n",
       "2  vilniuje  naujininkuose  54.662883   \n",
       "3  vilniuje  fabijoniskese  54.742411   \n",
       "5  vilniuje   senamiestyje  54.681746   \n",
       "6  vilniuje  naujininkuose  54.662866   \n",
       "\n",
       "                                         listing_url  longitude  \\\n",
       "1  https://www.aruodas.lt/butu-nuoma-vilniuje-sni...  25.278539   \n",
       "2  https://www.aruodas.lt/butu-nuoma-vilniuje-nau...  25.277840   \n",
       "3  https://www.aruodas.lt/butu-nuoma-vilniuje-fab...  25.229110   \n",
       "5  https://www.aruodas.lt/butu-nuoma-vilniuje-sen...  25.279369   \n",
       "6  https://www.aruodas.lt/butu-nuoma-vilniuje-nau...  25.277922   \n",
       "\n",
       "               street  floor_area_m2  monthly_rent  number_of_rooms  floor  \\\n",
       "1  juozo-balcikonio-g           19.0         326.0              1.0    3.0   \n",
       "2            telsiu-g           42.0         399.0              3.0    2.0   \n",
       "3  salomejos-neries-g           50.0         360.0              2.0   11.0   \n",
       "5         klaipedos-g          105.0        1500.0              4.0    3.0   \n",
       "6            telsiu-g           42.0         350.0              1.0    1.0   \n",
       "\n",
       "   number_of_floors  build_year building_type            heating_type  \\\n",
       "1               5.0      2020.0       Mūrinis  Centrinis kolektorinis   \n",
       "2               4.0      2015.0       Mūrinis             Geoterminis   \n",
       "3              12.0      2008.0       Mūrinis                    Kita   \n",
       "5               3.0      2013.0       Mūrinis  Centrinis kolektorinis   \n",
       "6               4.0      2015.0       Mūrinis             Geoterminis   \n",
       "\n",
       "  equipment  \n",
       "1  Įrengtas  \n",
       "2  Įrengtas  \n",
       "3  Įrengtas  \n",
       "5  Įrengtas  \n",
       "6  Įrengtas  "
      ]
     },
     "execution_count": 16,
     "metadata": {},
     "output_type": "execute_result"
    }
   ],
   "source": [
    "final = pd.read_csv(str(PROJECT_DIR / \"data/final/rent.csv\"), index_col=0)\n",
    "final.head()"
   ]
  },
  {
   "cell_type": "markdown",
   "metadata": {},
   "source": [
    "### Modelling"
   ]
  },
  {
   "cell_type": "code",
   "execution_count": 17,
   "metadata": {},
   "outputs": [
    {
     "name": "stdout",
     "output_type": "stream",
     "text": [
      "Score: 0.668780779673825\n",
      "Mean absolute error: 128.82831971188514\n",
      "Mean absolute percentage error: 0.295953694179332\n"
     ]
    }
   ],
   "source": [
    "import src.models\n",
    "\n",
    "final = final.drop(\"listing_url\", axis=\"columns\")\n",
    "\n",
    "model, scaler, encoder = src.models.main(final)"
   ]
  },
  {
   "cell_type": "markdown",
   "metadata": {},
   "source": [
    "Running src.models as a script saves model and used scaler and encoder to ./models directory."
   ]
  },
  {
   "cell_type": "markdown",
   "metadata": {},
   "source": [
    "### Accessing model via api\n",
    "\n",
    "#### Access to model's inference (post interface)\n",
    "\n",
    "https://jjuoda-ds-24.herokuapp.com/predict/\n",
    "\n",
    "For example, using requests library:"
   ]
  },
  {
   "cell_type": "code",
   "execution_count": 18,
   "metadata": {},
   "outputs": [
    {
     "data": {
      "text/plain": [
       "array([198.87162398])"
      ]
     },
     "execution_count": 18,
     "metadata": {},
     "output_type": "execute_result"
    }
   ],
   "source": [
    "import numpy as np\n",
    "import requests\n",
    "\n",
    "features_for_inference = [\n",
    "    {\n",
    "        \"city\": \"kaune\",\n",
    "        \"district\": \"centre\",\n",
    "        \"latitude\": 54.889328,\n",
    "        \"longitude\": 23.936227,\n",
    "        \"street\": \"tunelio-g\",\n",
    "        \"floor_area_m2\": 25.0,\n",
    "        \"number_of_rooms\": 1.0,\n",
    "        \"floor\": 1.0,\n",
    "        \"number_of_floors\": 2.0,\n",
    "        \"build_year\": 1939.0,\n",
    "        \"building_type\": \"Medinis\",\n",
    "        \"heating_type\": \"Dujinis\",\n",
    "        \"equipment\": \"Įrengtas\",\n",
    "    }\n",
    "]\n",
    "url = \"https://jjuoda-ds-24.herokuapp.com/predict/\"\n",
    "response = requests.post(url, json=features_for_inference)\n",
    "inferred = np.array(response.json())\n",
    "inferred"
   ]
  },
  {
   "cell_type": "markdown",
   "metadata": {},
   "source": [
    "#### Access last inferences made\n",
    "\n",
    "https://jjuoda-ds-24.herokuapp.com/inferences"
   ]
  },
  {
   "cell_type": "code",
   "execution_count": 19,
   "metadata": {},
   "outputs": [
    {
     "data": {
      "text/plain": [
       "array([{'number_of_floors': 2.0, 'equipment': 'Įrengtas', 'number_of_rooms': 1.0, 'street': 'tunelio-g', 'longitude': 23.936227, 'district': 'centre', 'inferred_monthly_rent': 198.87162398292858, 'heating_type': 'Dujinis', 'build_year': 1939.0, 'floor': 1.0, 'floor_area_m2': 25.0, 'latitude': 54.889328, 'city': 'kaune', 'id': 85, 'building_type': 'Medinis'},\n",
       "       {'number_of_floors': 2.0, 'equipment': 'Įrengtas', 'number_of_rooms': 1.0, 'street': 'tunelio-g', 'longitude': 23.936227, 'district': 'centre', 'inferred_monthly_rent': 198.87162398292858, 'heating_type': 'Dujinis', 'build_year': 1939.0, 'floor': 1.0, 'floor_area_m2': 25.0, 'latitude': 54.889328, 'city': 'kaune', 'id': 84, 'building_type': 'Medinis'},\n",
       "       {'number_of_floors': 2.0, 'equipment': 'Įrengtas', 'number_of_rooms': 1.0, 'street': 'tunelio-g', 'longitude': 23.936227, 'district': 'centre', 'inferred_monthly_rent': 198.87162398292858, 'heating_type': 'Dujinis', 'build_year': 1939.0, 'floor': 1.0, 'floor_area_m2': 25.0, 'latitude': 54.889328, 'city': 'kaune', 'id': 83, 'building_type': 'Medinis'},\n",
       "       {'number_of_floors': 2.0, 'equipment': 'Įrengtas', 'number_of_rooms': 1.0, 'street': 'tunelio-g', 'longitude': 23.936227, 'district': 'centre', 'inferred_monthly_rent': 198.87162398292858, 'heating_type': 'Dujinis', 'build_year': 1939.0, 'floor': 1.0, 'floor_area_m2': 25.0, 'latitude': 54.889328, 'city': 'kaune', 'id': 82, 'building_type': 'Medinis'},\n",
       "       {'number_of_floors': 2.0, 'equipment': 'Įrengtas', 'number_of_rooms': 1.0, 'street': 'tunelio-g', 'longitude': 23.936227, 'district': 'centre', 'inferred_monthly_rent': 198.87162398292858, 'heating_type': 'Dujinis', 'build_year': 1939.0, 'floor': 1.0, 'floor_area_m2': 25.0, 'latitude': 54.889328, 'city': 'kaune', 'id': 81, 'building_type': 'Medinis'},\n",
       "       {'number_of_floors': 2.0, 'equipment': 'Įrengtas', 'number_of_rooms': 1.0, 'street': 'tunelio-g', 'longitude': 23.936227, 'district': 'centre', 'inferred_monthly_rent': 198.87162398292858, 'heating_type': 'Dujinis', 'build_year': 1939.0, 'floor': 1.0, 'floor_area_m2': 25.0, 'latitude': 54.889328, 'city': 'kaune', 'id': 80, 'building_type': 'Medinis'},\n",
       "       {'number_of_floors': 2.0, 'equipment': 'Įrengtas', 'number_of_rooms': 1.0, 'street': 'tunelio-g', 'longitude': 23.936227, 'district': 'centre', 'inferred_monthly_rent': 198.87162398292858, 'heating_type': 'Dujinis', 'build_year': 1939.0, 'floor': 1.0, 'floor_area_m2': 25.0, 'latitude': 54.889328, 'city': 'kaune', 'id': 79, 'building_type': 'Medinis'},\n",
       "       {'number_of_floors': 2.0, 'equipment': 'Įrengtas', 'number_of_rooms': 1.0, 'street': 'tunelio-g', 'longitude': 23.936227, 'district': 'centre', 'inferred_monthly_rent': 198.8716239829286, 'heating_type': 'Dujinis', 'build_year': 1939.0, 'floor': 1.0, 'floor_area_m2': 25.0, 'latitude': 54.889328, 'city': 'kaune', 'id': 78, 'building_type': 'Medinis'},\n",
       "       {'number_of_floors': 2.0, 'equipment': 'Įrengtas', 'number_of_rooms': 1.0, 'street': 'tunelio-g', 'longitude': 23.936227, 'district': 'centre', 'inferred_monthly_rent': 198.8716239829286, 'heating_type': 'Dujinis', 'build_year': 1939.0, 'floor': 1.0, 'floor_area_m2': 25.0, 'latitude': 54.889328, 'city': 'kaune', 'id': 77, 'building_type': 'Medinis'},\n",
       "       {'number_of_floors': 2.0, 'equipment': 'Įrengtas', 'number_of_rooms': 1.0, 'street': 'tunelio-g', 'longitude': 23.936227, 'district': 'centre', 'inferred_monthly_rent': 198.87162398292858, 'heating_type': 'Dujinis', 'build_year': 1939.0, 'floor': 1.0, 'floor_area_m2': 25.0, 'latitude': 54.889328, 'city': 'kaune', 'id': 76, 'building_type': 'Medinis'}],\n",
       "      dtype=object)"
      ]
     },
     "execution_count": 19,
     "metadata": {},
     "output_type": "execute_result"
    }
   ],
   "source": [
    "url = \"https://jjuoda-ds-24.herokuapp.com/inferences/\"\n",
    "response = requests.get(url)\n",
    "last_inferences = np.array(response.json())\n",
    "last_inferences"
   ]
  },
  {
   "cell_type": "markdown",
   "metadata": {},
   "source": [
    "#### Check (auto-generated) documentation:\n",
    "\n",
    "https://jjuoda-ds-24.herokuapp.com/docs"
   ]
  }
 ],
 "metadata": {
  "kernelspec": {
   "display_name": "jjuoda-DS.2.4",
   "language": "python",
   "name": "jjuoda-ds.2.4"
  },
  "language_info": {
   "codemirror_mode": {
    "name": "ipython",
    "version": 3
   },
   "file_extension": ".py",
   "mimetype": "text/x-python",
   "name": "python",
   "nbconvert_exporter": "python",
   "pygments_lexer": "ipython3",
   "version": "3.9.1"
  }
 },
 "nbformat": 4,
 "nbformat_minor": 4
}
