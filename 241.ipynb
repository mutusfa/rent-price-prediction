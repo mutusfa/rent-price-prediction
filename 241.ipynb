{
 "cells": [
  {
   "cell_type": "markdown",
   "metadata": {},
   "source": [
    "# Capstone Project"
   ]
  },
  {
   "cell_type": "markdown",
   "metadata": {},
   "source": [
    "## Background"
   ]
  },
  {
   "cell_type": "markdown",
   "metadata": {},
   "source": [
    "Woah time really flies and you already reached the last sprint of the second module in the course! You should be proud of yourself. In the past three sprints you were gaining precious knowledge that helped you acquire data engineering skills. Now you should know what good Python code looks like, why OOP is used, how to structure Python project, how to work with SQL, how to develop and deploy web application. All these skills will enable you making outstanding projects that not only cover data analysis and modeling but also making your discoveries reachable to other people.\n",
    "\n",
    "Now the time has come to put all your learnings into one place and complete the second capstone project of the course. During this project you will have to create a Python package, collect dataset using data scraping technique, train model and deploy it for others to reach.\n",
    "\n",
    "Most importantly you will have to create whole E2E Machine Learning plan: establish the problem, collect dataset, train model, evaluate it and deploy it. By completing this project, you will strengthen your data engineering skills and prove to yourself and other that you are capable of planning and executing data science projects."
   ]
  },
  {
   "cell_type": "markdown",
   "metadata": {},
   "source": [
    "<div style=\"text-align: center;\">\n",
    "<img src=\"https://miro.medium.com/max/700/1*x7P7gqjo8k2_bj2rTQWAfg.jpeg\"/ width=\"300px\">\n",
    "</div>"
   ]
  },
  {
   "cell_type": "markdown",
   "metadata": {},
   "source": [
    "---"
   ]
  },
  {
   "cell_type": "markdown",
   "metadata": {},
   "source": [
    "## Requirements\n",
    "The whole capstone project requires you to execute full featured E2E Machine Learning Project so let's see what actually do you have to complete:\n",
    "\n",
    "### Define problem you want to solve\n",
    "This is the part where you have to select a problem. Here are the topics that you can choose from: text classification, price prediction, item category classification. Through the second module of the course you saw a few examples of datasets that could be used to solve these problems (eBay listings, Reddit posts, Twitter tweets). In this stage you have to:\n",
    "- Define the problem and create a short presentation\n",
    "- Explain what do you wan to solve, and what is the potential value of your solution\n",
    "- Define the data source you will collect data from\n",
    "\n",
    "### Collecting data\n",
    "During this stage you will need to create a Python package that is able to scrape specific website. You saw many examples during the period of the second module, where functions that take few arguments (`keywords`, `number of samples`, etc.) and outputs pandas `DataFrame`s were created. Now you will need to transform this functionality into Python package that is installable through pip.\n",
    "- Create Python package that is able to scrape specific webpage\n",
    "- The package should be installable through `pip`\n",
    "- The package should meed all expected Python package standards: clean code, tests, documentation.\n",
    "- Collect and process dataset using your created package\n",
    "\n",
    "### Training and saving the model\n",
    "During this step you will need to use your collected data to train, test and save machine learning model. Do not spend much time on this step just make sure that:\n",
    "- Correct machine learning algorithm is selected\n",
    "- Model is successfully trained (remember first module of the course)\n",
    "- Model is saved for later deployment\n",
    "\n",
    "### Creating API for the trained model\n",
    "This is the step you have done at least couple of times. You will need to create API using Flask. While creating the application you will need to do these things:\n",
    "- Load trained model\n",
    "- Create inference pipeline\n",
    "- Create `POST` route to reach model and send it's outputs as response\n",
    "\n",
    "### Tracking model's predictions\n",
    "Now you will need to enable model's predictions tracking. During this step you will need to connect your flask application to PostgreSQL database hosted by Heroku and put model's inputs and outputs into one table:\n",
    "- Create PostgreSQL database hosted by Heroku\n",
    "- Create table for predictions tracking. There should be columns for inputs and outputs of model\n",
    "- At every request of model insert required values to the database\n",
    "- Create new route in Flask application that returns 10 most recent requests and responses in JSON format\n",
    "\n",
    "### Deploying the application\n",
    "After completing all the steps required above, you will need to deploy your application to Heroku. You will need to follow steps provided in the fourth lesson of this sprint.\n",
    "- Make sure all secrets and passwords are set as ENV variables in Heroku\n",
    "- Deploy application to Heroku\n",
    "- Ensure that you application is accessible (provide link to it)"
   ]
  },
  {
   "cell_type": "markdown",
   "metadata": {},
   "source": [
    "---"
   ]
  },
  {
   "cell_type": "markdown",
   "metadata": {},
   "source": [
    "## Evaluation criteria\n",
    "- All requirements are met\n",
    "- The project is well thought out. Defined problem is clearly presented\n",
    "- Model actually works, is able to make predictions that make sense\n",
    "- Written code is clear and clean. All the PEP8 standards are met"
   ]
  },
  {
   "cell_type": "markdown",
   "metadata": {},
   "source": [
    "---"
   ]
  },
  {
   "cell_type": "markdown",
   "metadata": {},
   "source": [
    "## Problem\n",
    "\n",
    "I am interested in investing in real estate. For that I need an estimate for how much could I rent out a given flat and for how much could I buy it. This project tries to gather data for predicting rent prices.\n",
    "\n",
    "I scrape rent listings from Lithuanian real estate portal aruodas.lt"
   ]
  },
  {
   "cell_type": "markdown",
   "metadata": {},
   "source": [
    "## Workflow from A to Z"
   ]
  },
  {
   "cell_type": "markdown",
   "metadata": {},
   "source": [
    "### Gathering data"
   ]
  },
  {
   "cell_type": "code",
   "execution_count": 3,
   "metadata": {},
   "outputs": [],
   "source": [
    "# !pip install git+https://github.com/mutusfa/scrape_aruodas"
   ]
  },
  {
   "cell_type": "code",
   "execution_count": 9,
   "metadata": {},
   "outputs": [],
   "source": [
    "import pandas as pd\n",
    "from pathlib import Path\n",
    "\n",
    "from scrape_aruodas.main import scrape\n",
    "\n",
    "PROJECT_DIR = Path.cwd()"
   ]
  },
  {
   "cell_type": "code",
   "execution_count": 10,
   "metadata": {},
   "outputs": [],
   "source": [
    "# raw = scrape(num_items=2000)\n",
    "# raw.to_csv(str(PROJECT_DIR / \"data/raw/rent.csv\"))"
   ]
  },
  {
   "cell_type": "markdown",
   "metadata": {},
   "source": [
    "### Cleaning the data"
   ]
  },
  {
   "cell_type": "code",
   "execution_count": 15,
   "metadata": {},
   "outputs": [],
   "source": [
    "import src.data.make_dataset\n",
    "intermediate = src.data.make_dataset.make_intermediate()  # also gets saved at data/intermediate/rent.csv"
   ]
  },
  {
   "cell_type": "markdown",
   "metadata": {},
   "source": [
    "There is a notebook in src/data/select_final.ipynb with minimal exploratory data analysis, where I cut off outliers."
   ]
  },
  {
   "cell_type": "code",
   "execution_count": 14,
   "metadata": {},
   "outputs": [
    {
     "data": {
      "text/html": [
       "<div>\n",
       "<style scoped>\n",
       "    .dataframe tbody tr th:only-of-type {\n",
       "        vertical-align: middle;\n",
       "    }\n",
       "\n",
       "    .dataframe tbody tr th {\n",
       "        vertical-align: top;\n",
       "    }\n",
       "\n",
       "    .dataframe thead th {\n",
       "        text-align: right;\n",
       "    }\n",
       "</style>\n",
       "<table border=\"1\" class=\"dataframe\">\n",
       "  <thead>\n",
       "    <tr style=\"text-align: right;\">\n",
       "      <th></th>\n",
       "      <th>city</th>\n",
       "      <th>district</th>\n",
       "      <th>latitude</th>\n",
       "      <th>listing_url</th>\n",
       "      <th>longitude</th>\n",
       "      <th>street</th>\n",
       "      <th>floor_area_m2</th>\n",
       "      <th>monthly_rent</th>\n",
       "      <th>number_of_rooms</th>\n",
       "      <th>floor</th>\n",
       "      <th>number_of_floors</th>\n",
       "      <th>build_year</th>\n",
       "      <th>building_type</th>\n",
       "      <th>heating_type</th>\n",
       "      <th>equipment</th>\n",
       "    </tr>\n",
       "  </thead>\n",
       "  <tbody>\n",
       "    <tr>\n",
       "      <th>1</th>\n",
       "      <td>vilniuje</td>\n",
       "      <td>snipiskese</td>\n",
       "      <td>54.720888</td>\n",
       "      <td>https://www.aruodas.lt/butu-nuoma-vilniuje-sni...</td>\n",
       "      <td>25.278539</td>\n",
       "      <td>juozo-balcikonio-g</td>\n",
       "      <td>19.0</td>\n",
       "      <td>326.0</td>\n",
       "      <td>1.0</td>\n",
       "      <td>3.0</td>\n",
       "      <td>5.0</td>\n",
       "      <td>2020.0</td>\n",
       "      <td>Mūrinis</td>\n",
       "      <td>Centrinis kolektorinis</td>\n",
       "      <td>Įrengtas</td>\n",
       "    </tr>\n",
       "    <tr>\n",
       "      <th>2</th>\n",
       "      <td>vilniuje</td>\n",
       "      <td>naujininkuose</td>\n",
       "      <td>54.662883</td>\n",
       "      <td>https://www.aruodas.lt/butu-nuoma-vilniuje-nau...</td>\n",
       "      <td>25.277840</td>\n",
       "      <td>telsiu-g</td>\n",
       "      <td>42.0</td>\n",
       "      <td>399.0</td>\n",
       "      <td>3.0</td>\n",
       "      <td>2.0</td>\n",
       "      <td>4.0</td>\n",
       "      <td>2015.0</td>\n",
       "      <td>Mūrinis</td>\n",
       "      <td>Geoterminis</td>\n",
       "      <td>Įrengtas</td>\n",
       "    </tr>\n",
       "    <tr>\n",
       "      <th>3</th>\n",
       "      <td>vilniuje</td>\n",
       "      <td>fabijoniskese</td>\n",
       "      <td>54.742411</td>\n",
       "      <td>https://www.aruodas.lt/butu-nuoma-vilniuje-fab...</td>\n",
       "      <td>25.229110</td>\n",
       "      <td>salomejos-neries-g</td>\n",
       "      <td>50.0</td>\n",
       "      <td>360.0</td>\n",
       "      <td>2.0</td>\n",
       "      <td>11.0</td>\n",
       "      <td>12.0</td>\n",
       "      <td>2008.0</td>\n",
       "      <td>Mūrinis</td>\n",
       "      <td>Kita</td>\n",
       "      <td>Įrengtas</td>\n",
       "    </tr>\n",
       "    <tr>\n",
       "      <th>5</th>\n",
       "      <td>vilniuje</td>\n",
       "      <td>senamiestyje</td>\n",
       "      <td>54.681746</td>\n",
       "      <td>https://www.aruodas.lt/butu-nuoma-vilniuje-sen...</td>\n",
       "      <td>25.279369</td>\n",
       "      <td>klaipedos-g</td>\n",
       "      <td>105.0</td>\n",
       "      <td>1500.0</td>\n",
       "      <td>4.0</td>\n",
       "      <td>3.0</td>\n",
       "      <td>3.0</td>\n",
       "      <td>2013.0</td>\n",
       "      <td>Mūrinis</td>\n",
       "      <td>Centrinis kolektorinis</td>\n",
       "      <td>Įrengtas</td>\n",
       "    </tr>\n",
       "    <tr>\n",
       "      <th>6</th>\n",
       "      <td>vilniuje</td>\n",
       "      <td>naujininkuose</td>\n",
       "      <td>54.662866</td>\n",
       "      <td>https://www.aruodas.lt/butu-nuoma-vilniuje-nau...</td>\n",
       "      <td>25.277922</td>\n",
       "      <td>telsiu-g</td>\n",
       "      <td>42.0</td>\n",
       "      <td>350.0</td>\n",
       "      <td>1.0</td>\n",
       "      <td>1.0</td>\n",
       "      <td>4.0</td>\n",
       "      <td>2015.0</td>\n",
       "      <td>Mūrinis</td>\n",
       "      <td>Geoterminis</td>\n",
       "      <td>Įrengtas</td>\n",
       "    </tr>\n",
       "  </tbody>\n",
       "</table>\n",
       "</div>"
      ],
      "text/plain": [
       "       city       district   latitude  \\\n",
       "1  vilniuje     snipiskese  54.720888   \n",
       "2  vilniuje  naujininkuose  54.662883   \n",
       "3  vilniuje  fabijoniskese  54.742411   \n",
       "5  vilniuje   senamiestyje  54.681746   \n",
       "6  vilniuje  naujininkuose  54.662866   \n",
       "\n",
       "                                         listing_url  longitude  \\\n",
       "1  https://www.aruodas.lt/butu-nuoma-vilniuje-sni...  25.278539   \n",
       "2  https://www.aruodas.lt/butu-nuoma-vilniuje-nau...  25.277840   \n",
       "3  https://www.aruodas.lt/butu-nuoma-vilniuje-fab...  25.229110   \n",
       "5  https://www.aruodas.lt/butu-nuoma-vilniuje-sen...  25.279369   \n",
       "6  https://www.aruodas.lt/butu-nuoma-vilniuje-nau...  25.277922   \n",
       "\n",
       "               street  floor_area_m2  monthly_rent  number_of_rooms  floor  \\\n",
       "1  juozo-balcikonio-g           19.0         326.0              1.0    3.0   \n",
       "2            telsiu-g           42.0         399.0              3.0    2.0   \n",
       "3  salomejos-neries-g           50.0         360.0              2.0   11.0   \n",
       "5         klaipedos-g          105.0        1500.0              4.0    3.0   \n",
       "6            telsiu-g           42.0         350.0              1.0    1.0   \n",
       "\n",
       "   number_of_floors  build_year building_type            heating_type  \\\n",
       "1               5.0      2020.0       Mūrinis  Centrinis kolektorinis   \n",
       "2               4.0      2015.0       Mūrinis             Geoterminis   \n",
       "3              12.0      2008.0       Mūrinis                    Kita   \n",
       "5               3.0      2013.0       Mūrinis  Centrinis kolektorinis   \n",
       "6               4.0      2015.0       Mūrinis             Geoterminis   \n",
       "\n",
       "  equipment  \n",
       "1  Įrengtas  \n",
       "2  Įrengtas  \n",
       "3  Įrengtas  \n",
       "5  Įrengtas  \n",
       "6  Įrengtas  "
      ]
     },
     "execution_count": 14,
     "metadata": {},
     "output_type": "execute_result"
    }
   ],
   "source": [
    "final = pd.read_csv(str(PROJECT_DIR / \"data/final/rent.csv\"), index_col=0)\n",
    "final.head()"
   ]
  },
  {
   "cell_type": "markdown",
   "metadata": {},
   "source": [
    "### Modelling"
   ]
  },
  {
   "cell_type": "code",
   "execution_count": 18,
   "metadata": {},
   "outputs": [
    {
     "name": "stdout",
     "output_type": "stream",
     "text": [
      "Score: 0.6708243526781839\n",
      "Mean absolute error: 130.11441959871323\n",
      "Mean absolute percentage error: 0.32305717022307767\n"
     ]
    }
   ],
   "source": [
    "import src.models\n",
    "\n",
    "final = final.drop('listing_url', axis=\"columns\")\n",
    "\n",
    "model, scaler, encoder = src.models.main(final)"
   ]
  },
  {
   "cell_type": "markdown",
   "metadata": {},
   "source": [
    "Running src.models as a script saves model and used scaler and encoder to ./models directory."
   ]
  },
  {
   "cell_type": "markdown",
   "metadata": {},
   "source": [
    "### Accessing model via api\n",
    "\n",
    "#### Access to model's inference (post interface)\n",
    "\n",
    "https://jjuoda-ds-24.herokuapp.com/predict/\n",
    "For example, using requests library:"
   ]
  },
  {
   "cell_type": "code",
   "execution_count": 20,
   "metadata": {},
   "outputs": [
    {
     "name": "stderr",
     "output_type": "stream",
     "text": [
      "DEBUG: Starting new HTTPS connection (1): jjuoda-ds-24.herokuapp.com:443\n",
      "DEBUG: https://jjuoda-ds-24.herokuapp.com:443 \"POST /predict/ HTTP/1.1\" 200 20\n"
     ]
    },
    {
     "data": {
      "text/plain": [
       "array([198.87162398])"
      ]
     },
     "execution_count": 20,
     "metadata": {},
     "output_type": "execute_result"
    }
   ],
   "source": [
    "import numpy as np\n",
    "import requests\n",
    "\n",
    "features_for_inference = [{\n",
    "    \"city\": \"kaune\",\n",
    "    \"district\": \"centre\",\n",
    "    \"latitude\": 54.889328,\n",
    "    \"longitude\": 23.936227,\n",
    "    \"street\": \"tunelio-g\",\n",
    "    \"floor_area_m2\": 25.0,\n",
    "    \"number_of_rooms\": 1.0,\n",
    "    \"floor\": 1.0,\n",
    "    \"number_of_floors\": 2.0,\n",
    "    \"build_year\": 1939.0,\n",
    "    \"building_type\": \"Medinis\",\n",
    "    \"heating_type\": \"Dujinis\",\n",
    "    \"equipment\": \"Įrengtas\",\n",
    "}]\n",
    "url = \"https://jjuoda-ds-24.herokuapp.com/predict/\"\n",
    "response = requests.post(url, json=features_for_inference)\n",
    "inferred = np.array(response.json())\n",
    "inferred"
   ]
  },
  {
   "cell_type": "markdown",
   "metadata": {},
   "source": [
    "#### Access last inferences made"
   ]
  },
  {
   "cell_type": "code",
   "execution_count": 21,
   "metadata": {},
   "outputs": [
    {
     "name": "stderr",
     "output_type": "stream",
     "text": [
      "DEBUG: Starting new HTTPS connection (1): jjuoda-ds-24.herokuapp.com:443\n",
      "DEBUG: https://jjuoda-ds-24.herokuapp.com:443 \"GET /inferences/ HTTP/1.1\" 200 3300\n"
     ]
    },
    {
     "data": {
      "text/plain": [
       "array([{'number_of_floors': 2.0, 'number_of_rooms': 1.0, 'street': 'tunelio-g', 'longitude': 23.936227, 'district': 'centre', 'inferred_monthly_rent': 198.87162398292858, 'heating_type': 'Dujinis', 'build_year': 1939.0, 'equipment': 'Įrengtas', 'floor': 1.0, 'floor_area_m2': 25.0, 'latitude': 54.889328, 'city': 'kaune', 'id': 80, 'building_type': 'Medinis'},\n",
       "       {'number_of_floors': 2.0, 'number_of_rooms': 1.0, 'street': 'tunelio-g', 'longitude': 23.936227, 'district': 'centre', 'inferred_monthly_rent': 198.87162398292858, 'heating_type': 'Dujinis', 'build_year': 1939.0, 'equipment': 'Įrengtas', 'floor': 1.0, 'floor_area_m2': 25.0, 'latitude': 54.889328, 'city': 'kaune', 'id': 79, 'building_type': 'Medinis'},\n",
       "       {'number_of_floors': 2.0, 'number_of_rooms': 1.0, 'street': 'tunelio-g', 'longitude': 23.936227, 'district': 'centre', 'inferred_monthly_rent': 198.8716239829286, 'heating_type': 'Dujinis', 'build_year': 1939.0, 'equipment': 'Įrengtas', 'floor': 1.0, 'floor_area_m2': 25.0, 'latitude': 54.889328, 'city': 'kaune', 'id': 78, 'building_type': 'Medinis'},\n",
       "       {'number_of_floors': 2.0, 'number_of_rooms': 1.0, 'street': 'tunelio-g', 'longitude': 23.936227, 'district': 'centre', 'inferred_monthly_rent': 198.8716239829286, 'heating_type': 'Dujinis', 'build_year': 1939.0, 'equipment': 'Įrengtas', 'floor': 1.0, 'floor_area_m2': 25.0, 'latitude': 54.889328, 'city': 'kaune', 'id': 77, 'building_type': 'Medinis'},\n",
       "       {'number_of_floors': 2.0, 'number_of_rooms': 1.0, 'street': 'tunelio-g', 'longitude': 23.936227, 'district': 'centre', 'inferred_monthly_rent': 198.87162398292858, 'heating_type': 'Dujinis', 'build_year': 1939.0, 'equipment': 'Įrengtas', 'floor': 1.0, 'floor_area_m2': 25.0, 'latitude': 54.889328, 'city': 'kaune', 'id': 76, 'building_type': 'Medinis'},\n",
       "       {'number_of_floors': 2.0, 'number_of_rooms': 1.0, 'street': 'tunelio-g', 'longitude': 23.936227, 'district': 'centre', 'inferred_monthly_rent': 198.87162398292858, 'heating_type': 'Dujinis', 'build_year': 1939.0, 'equipment': 'Įrengtas', 'floor': 1.0, 'floor_area_m2': 25.0, 'latitude': 54.889328, 'city': 'kaune', 'id': 75, 'building_type': 'Medinis'},\n",
       "       {'number_of_floors': 6.0, 'number_of_rooms': 2.0, 'street': 'kauno-g', 'longitude': 25.278603, 'district': 'naujamiestyje', 'inferred_monthly_rent': 570.437952429626, 'heating_type': 'Centrinis', 'build_year': 1980.0, 'equipment': 'Įrengtas', 'floor': 5.0, 'floor_area_m2': 66.16, 'latitude': 54.672993, 'city': 'vilniuje', 'id': 74, 'building_type': 'Blokinis'},\n",
       "       {'number_of_floors': 6.0, 'number_of_rooms': 3.0, 'street': 'kovo-11-osios-g', 'longitude': 25.099926, 'district': 'grigiskese', 'inferred_monthly_rent': 662.324783009432, 'heating_type': 'Centrinis', 'build_year': 2002.0, 'equipment': 'Įrengtas', 'floor': 5.0, 'floor_area_m2': 75.0, 'latitude': 54.668728, 'city': 'vilniuje', 'id': 73, 'building_type': 'Mūrinis'},\n",
       "       {'number_of_floors': 3.0, 'number_of_rooms': 3.0, 'street': 'm-dauksos-g', 'longitude': 25.290807, 'district': 'naujamiestyje', 'inferred_monthly_rent': 669.0201580656357, 'heating_type': 'Geoterminis', 'build_year': 1940.0, 'equipment': 'Įrengtas', 'floor': 1.0, 'floor_area_m2': 65.0, 'latitude': 54.674321, 'city': 'vilniuje', 'id': 72, 'building_type': 'Mūrinis'},\n",
       "       {'number_of_floors': 3.0, 'number_of_rooms': 3.0, 'street': 't-daugirdo-g', 'longitude': 23.885151, 'district': 'senamiestyje', 'inferred_monthly_rent': 779.5856197941717, 'heating_type': 'Centrinis', 'build_year': 1987.0, 'equipment': 'Įrengtas', 'floor': 2.0, 'floor_area_m2': 65.0, 'latitude': 54.895115, 'city': 'kaune', 'id': 71, 'building_type': 'Mūrinis'}],\n",
       "      dtype=object)"
      ]
     },
     "execution_count": 21,
     "metadata": {},
     "output_type": "execute_result"
    }
   ],
   "source": [
    "url = \"https://jjuoda-ds-24.herokuapp.com/inferences/\"\n",
    "response = requests.get(url)\n",
    "last_inferences = np.array(response.json())\n",
    "last_inferences"
   ]
  }
 ],
 "metadata": {
  "kernelspec": {
   "display_name": "Python 3",
   "language": "python",
   "name": "python3"
  },
  "language_info": {
   "codemirror_mode": {
    "name": "ipython",
    "version": 3
   },
   "file_extension": ".py",
   "mimetype": "text/x-python",
   "name": "python",
   "nbconvert_exporter": "python",
   "pygments_lexer": "ipython3",
   "version": "3.9.1"
  }
 },
 "nbformat": 4,
 "nbformat_minor": 4
}
